{
  "nbformat": 4,
  "nbformat_minor": 0,
  "metadata": {
    "colab": {
      "provenance": [],
      "include_colab_link": true
    },
    "kernelspec": {
      "name": "python3",
      "display_name": "Python 3"
    },
    "language_info": {
      "name": "python"
    }
  },
  "cells": [
    {
      "cell_type": "markdown",
      "metadata": {
        "id": "view-in-github",
        "colab_type": "text"
      },
      "source": [
        "<a href=\"https://colab.research.google.com/github/adrianadhari/UTS-Machine-Learning/blob/main/MachineLearning.ipynb\" target=\"_parent\"><img src=\"https://colab.research.google.com/assets/colab-badge.svg\" alt=\"Open In Colab\"/></a>"
      ]
    },
    {
      "cell_type": "code",
      "execution_count": null,
      "metadata": {
        "id": "se83EdfPQL28"
      },
      "outputs": [],
      "source": [
        "import pandas as pd\n",
        "from sklearn.impute import SimpleImputer\n",
        "from sklearn.preprocessing import StandardScaler\n",
        "from sklearn.model_selection import train_test_split\n",
        "from sklearn.tree import DecisionTreeClassifier\n",
        "from sklearn.metrics import confusion_matrix, accuracy_score\n",
        "from sklearn.cluster import KMeans\n",
        "from sklearn.metrics import silhouette_score"
      ]
    },
    {
      "cell_type": "code",
      "source": [
        "data = pd.read_csv(\"/content/drive/MyDrive/Machine Learning/mobileprice_modified.csv\")\n",
        "print(data.head())"
      ],
      "metadata": {
        "colab": {
          "base_uri": "https://localhost:8080/"
        },
        "id": "0BVFrHI3lBR1",
        "outputId": "72d0a422-f093-44d5-9875-77eb1c516900"
      },
      "execution_count": null,
      "outputs": [
        {
          "output_type": "stream",
          "name": "stdout",
          "text": [
            "   battery_power  blue  clock_speed  dual_sim  fc  four_g  int_memory  m_dep  \\\n",
            "0          842.0     0          2.2         0   1       0         7.0    0.6   \n",
            "1         1021.0     1          0.5         1   0       1        53.0    0.7   \n",
            "2          563.0     1          0.5         1   2       1        41.0    0.9   \n",
            "3          615.0     1          2.5         0   0       0        10.0    0.8   \n",
            "4         1821.0     1          1.2         0  13       1        44.0    0.6   \n",
            "\n",
            "   mobile_wt  n_cores  ...  px_height  px_width     ram  sc_h  sc_w  \\\n",
            "0      188.0        2  ...         20       756     NaN     9     7   \n",
            "1      136.0        3  ...        905      1988  2631.0    17     3   \n",
            "2      145.0        5  ...       1263      1716  2603.0    11     2   \n",
            "3      131.0        6  ...       1216      1786  2769.0    16     8   \n",
            "4      141.0        2  ...       1208      1212  1411.0     8     2   \n",
            "\n",
            "   talk_time  three_g  touch_screen  wifi  price_range  \n",
            "0         19        0             0     1            1  \n",
            "1          7        1             1     0            2  \n",
            "2          9        1             1     0            2  \n",
            "3         11        1             0     0            2  \n",
            "4         15        1             1     0            1  \n",
            "\n",
            "[5 rows x 21 columns]\n"
          ]
        }
      ]
    },
    {
      "cell_type": "code",
      "source": [
        "# 1. Identifikasi nama dan jenis atribut\n",
        "def identify_attributes(df):\n",
        "    attribute_info = {}\n",
        "    for column in df.columns:\n",
        "        unique_values = df[column].nunique()\n",
        "        if unique_values <= 10:\n",
        "            attribute_info[column] = {\n",
        "                \"type\": \"categorical\",\n",
        "                \"unique_values\": df[column].unique().tolist()\n",
        "            }\n",
        "        else:\n",
        "            attribute_info[column] = {\n",
        "                \"type\": \"numerical\",\n",
        "                \"unique_values_count\": unique_values\n",
        "            }\n",
        "    return attribute_info\n",
        "\n",
        "attribute_info = identify_attributes(data)\n",
        "print(\"Attribute Information:\")\n",
        "for attr, info in attribute_info.items():\n",
        "    print(f\"{attr}: {info}\")"
      ],
      "metadata": {
        "colab": {
          "base_uri": "https://localhost:8080/"
        },
        "id": "-EbbpityQ_dJ",
        "outputId": "39e3c775-6a3e-4d82-b472-502736f6015b"
      },
      "execution_count": null,
      "outputs": [
        {
          "output_type": "stream",
          "name": "stdout",
          "text": [
            "Attribute Information:\n",
            "battery_power: {'type': 'numerical', 'unique_values_count': 1093}\n",
            "blue: {'type': 'categorical', 'unique_values': [0, 1]}\n",
            "clock_speed: {'type': 'numerical', 'unique_values_count': 26}\n",
            "dual_sim: {'type': 'categorical', 'unique_values': [0, 1]}\n",
            "fc: {'type': 'numerical', 'unique_values_count': 20}\n",
            "four_g: {'type': 'categorical', 'unique_values': [0, 1]}\n",
            "int_memory: {'type': 'numerical', 'unique_values_count': 63}\n",
            "m_dep: {'type': 'categorical', 'unique_values': [0.6, 0.7, 0.9, 0.8, 0.1, 0.5, 1.0, 0.3, 0.4, 0.2]}\n",
            "mobile_wt: {'type': 'numerical', 'unique_values_count': 121}\n",
            "n_cores: {'type': 'categorical', 'unique_values': [2, 3, 5, 6, 1, 8, 4, 7]}\n",
            "pc: {'type': 'numerical', 'unique_values_count': 21}\n",
            "px_height: {'type': 'numerical', 'unique_values_count': 1137}\n",
            "px_width: {'type': 'numerical', 'unique_values_count': 1109}\n",
            "ram: {'type': 'numerical', 'unique_values_count': 1558}\n",
            "sc_h: {'type': 'numerical', 'unique_values_count': 15}\n",
            "sc_w: {'type': 'numerical', 'unique_values_count': 19}\n",
            "talk_time: {'type': 'numerical', 'unique_values_count': 19}\n",
            "three_g: {'type': 'categorical', 'unique_values': [0, 1]}\n",
            "touch_screen: {'type': 'categorical', 'unique_values': [0, 1]}\n",
            "wifi: {'type': 'categorical', 'unique_values': [1, 0]}\n",
            "price_range: {'type': 'categorical', 'unique_values': [1, 2, 3, 0]}\n"
          ]
        }
      ]
    },
    {
      "cell_type": "code",
      "source": [
        "# 2. Praproses Data\n",
        "# a. Pisahkan atribut prediktor dan label\n",
        "X = data.drop(columns=['price_range'])\n",
        "y = data['price_range']\n",
        "\n",
        "# b. Menangani missing values\n",
        "imputer = SimpleImputer(strategy='mean')\n",
        "X_imputed = imputer.fit_transform(X)\n",
        "\n",
        "# c. Standarisasi data\n",
        "scaler = StandardScaler()\n",
        "X_scaled = scaler.fit_transform(X_imputed)\n",
        "\n",
        "# d. Statistik deskriptif sebelum dan sesudah praproses\n",
        "print(\"\\nStatistik Deskriptif Sebelum Praproses:\")\n",
        "print(X.describe())\n",
        "print(\"\\nStatistik Deskriptif Setelah Pengisian Missing Values dan Standarisasi:\")\n",
        "print(pd.DataFrame(X_scaled, columns=X.columns).describe())"
      ],
      "metadata": {
        "colab": {
          "base_uri": "https://localhost:8080/"
        },
        "id": "PTzuTg35RRdT",
        "outputId": "35fc4d95-29fd-467c-87eb-d4b7cbcac3a2"
      },
      "execution_count": null,
      "outputs": [
        {
          "output_type": "stream",
          "name": "stdout",
          "text": [
            "\n",
            "Statistik Deskriptif Sebelum Praproses:\n",
            "       battery_power       blue  clock_speed     dual_sim           fc  \\\n",
            "count    1990.000000  2000.0000  2000.000000  2000.000000  2000.000000   \n",
            "mean     1237.867839     0.4950     1.522250     0.509500     4.309500   \n",
            "std       439.676025     0.5001     0.816004     0.500035     4.341444   \n",
            "min       501.000000     0.0000     0.500000     0.000000     0.000000   \n",
            "25%       850.250000     0.0000     0.700000     0.000000     1.000000   \n",
            "50%      1225.000000     0.0000     1.500000     1.000000     3.000000   \n",
            "75%      1615.000000     1.0000     2.200000     1.000000     7.000000   \n",
            "max      1998.000000     1.0000     3.000000     1.000000    19.000000   \n",
            "\n",
            "            four_g   int_memory        m_dep    mobile_wt      n_cores  \\\n",
            "count  2000.000000  1990.000000  2000.000000  1990.000000  2000.000000   \n",
            "mean      0.521500    31.987940     0.501750   140.344221     4.520500   \n",
            "std       0.499662    18.136427     0.288416    35.407114     2.287837   \n",
            "min       0.000000     2.000000     0.100000    80.000000     1.000000   \n",
            "25%       0.000000    16.000000     0.200000   109.000000     3.000000   \n",
            "50%       1.000000    32.000000     0.500000   141.000000     4.000000   \n",
            "75%       1.000000    48.000000     0.800000   170.000000     7.000000   \n",
            "max       1.000000    64.000000     1.000000   200.000000     8.000000   \n",
            "\n",
            "                pc    px_height     px_width          ram         sc_h  \\\n",
            "count  2000.000000  2000.000000  2000.000000  1990.000000  2000.000000   \n",
            "mean      9.916500   645.108000  1251.515500  2124.991960    12.306500   \n",
            "std       6.064315   443.780811   432.199447  1084.885362     4.213245   \n",
            "min       0.000000     0.000000   500.000000   256.000000     5.000000   \n",
            "25%       5.000000   282.750000   874.750000  1208.250000     9.000000   \n",
            "50%      10.000000   564.000000  1247.000000  2146.500000    12.000000   \n",
            "75%      15.000000   947.250000  1633.000000  3065.500000    16.000000   \n",
            "max      20.000000  1960.000000  1998.000000  3998.000000    19.000000   \n",
            "\n",
            "              sc_w    talk_time      three_g  touch_screen         wifi  \n",
            "count  2000.000000  2000.000000  2000.000000   2000.000000  2000.000000  \n",
            "mean      5.767000    11.011000     0.761500      0.503000     0.507000  \n",
            "std       4.356398     5.463955     0.426273      0.500116     0.500076  \n",
            "min       0.000000     2.000000     0.000000      0.000000     0.000000  \n",
            "25%       2.000000     6.000000     1.000000      0.000000     0.000000  \n",
            "50%       5.000000    11.000000     1.000000      1.000000     1.000000  \n",
            "75%       9.000000    16.000000     1.000000      1.000000     1.000000  \n",
            "max      18.000000    20.000000     1.000000      1.000000     1.000000  \n",
            "\n",
            "Statistik Deskriptif Setelah Pengisian Missing Values dan Standarisasi:\n",
            "       battery_power          blue   clock_speed      dual_sim            fc  \\\n",
            "count   2.000000e+03  2.000000e+03  2.000000e+03  2.000000e+03  2.000000e+03   \n",
            "mean   -1.563194e-16 -1.243450e-17 -1.545430e-16  8.082424e-17  5.861978e-17   \n",
            "std     1.000250e+00  1.000250e+00  1.000250e+00  1.000250e+00  1.000250e+00   \n",
            "min    -1.680562e+00 -9.900495e-01 -1.253064e+00 -1.019184e+00 -9.928904e-01   \n",
            "25%    -8.806122e-01 -9.900495e-01 -1.007906e+00 -1.019184e+00 -7.624947e-01   \n",
            "50%    -1.680370e-02 -9.900495e-01 -2.727384e-02  9.811771e-01 -3.017032e-01   \n",
            "75%     8.578380e-01  1.010051e+00  8.307794e-01  9.811771e-01  6.198797e-01   \n",
            "max     1.733620e+00  1.010051e+00  1.811412e+00  9.811771e-01  3.384628e+00   \n",
            "\n",
            "             four_g    int_memory         m_dep     mobile_wt       n_cores  \\\n",
            "count  2.000000e+03  2.000000e+03  2.000000e+03  2.000000e+03  2.000000e+03   \n",
            "mean   1.048051e-16  5.684342e-17 -1.030287e-16 -3.765876e-16 -7.727152e-17   \n",
            "std    1.000250e+00  1.000250e+00  1.000250e+00  1.000250e+00  1.000250e+00   \n",
            "min   -1.043966e+00 -1.658030e+00 -1.393304e+00 -1.709003e+00 -1.539175e+00   \n",
            "25%   -1.043966e+00 -8.839717e-01 -1.046495e+00 -8.876966e-01 -6.647678e-01   \n",
            "50%    9.578860e-01  0.000000e+00 -6.069151e-03  1.857225e-02 -2.275644e-01   \n",
            "75%    9.578860e-01  8.853054e-01  1.034357e+00  8.398784e-01  1.084046e+00   \n",
            "max    9.578860e-01  1.769944e+00  1.727974e+00  1.689505e+00  1.521249e+00   \n",
            "\n",
            "                 pc     px_height      px_width           ram          sc_h  \\\n",
            "count  2.000000e+03  2.000000e+03  2.000000e+03  2.000000e+03  2.000000e+03   \n",
            "mean   1.403322e-16  1.181277e-16  6.084022e-17 -1.492140e-16  4.884981e-17   \n",
            "std    1.000250e+00  1.000250e+00  1.000250e+00  1.000250e+00  1.000250e+00   \n",
            "min   -1.635631e+00 -1.454027e+00 -1.739251e+00 -1.727512e+00 -1.734608e+00   \n",
            "25%   -8.109291e-01 -8.167289e-01 -8.719579e-01 -8.450354e-01 -7.849833e-01   \n",
            "50%    1.377252e-02 -1.828116e-01 -1.045034e-02  5.091091e-03 -7.276497e-02   \n",
            "75%    8.384742e-01  6.810064e-01  8.828792e-01  8.642295e-01  8.768595e-01   \n",
            "max    1.663176e+00  2.963672e+00  1.727608e+00  1.731225e+00  1.589078e+00   \n",
            "\n",
            "               sc_w     talk_time       three_g  touch_screen          wifi  \n",
            "count  2.000000e+03  2.000000e+03  2.000000e+03  2.000000e+03  2.000000e+03  \n",
            "mean  -5.506706e-17  1.421085e-16  1.421085e-17 -5.417888e-17  1.421085e-17  \n",
            "std    1.000250e+00  1.000250e+00  1.000250e+00  1.000250e+00  1.000250e+00  \n",
            "min   -1.324131e+00 -1.649584e+00 -1.786861e+00 -1.006018e+00 -1.014099e+00  \n",
            "25%   -8.649215e-01 -9.173306e-01  5.596406e-01 -1.006018e+00 -1.014099e+00  \n",
            "50%   -1.761069e-01 -2.013697e-03  5.596406e-01  9.940179e-01  9.860966e-01  \n",
            "75%    7.423125e-01  9.133032e-01  5.596406e-01  9.940179e-01  9.860966e-01  \n",
            "max    2.808756e+00  1.645557e+00  5.596406e-01  9.940179e-01  9.860966e-01  \n"
          ]
        }
      ]
    },
    {
      "cell_type": "code",
      "source": [
        "# 3. Membangun Model Klasifikasi\n",
        "# a. Gunakan Decision Tree untuk klasifikasi\n",
        "X_train, X_test, y_train, y_test = train_test_split(X_scaled, y, test_size=0.15, random_state=42)\n",
        "classifier = DecisionTreeClassifier(random_state=42)\n",
        "classifier.fit(X_train, y_train)\n",
        "\n",
        "# b. Evaluasi model\n",
        "y_pred = classifier.predict(X_test)\n",
        "conf_matrix = confusion_matrix(y_test, y_pred)\n",
        "accuracy = accuracy_score(y_test, y_pred)\n",
        "\n",
        "print(\"\\nConfusion Matrix:\")\n",
        "print(conf_matrix)\n",
        "print(f\"Akurasi Model Klasifikasi: {accuracy:.2f}\")\n"
      ],
      "metadata": {
        "colab": {
          "base_uri": "https://localhost:8080/"
        },
        "id": "D4fAAmqaR2j1",
        "outputId": "a1562663-923c-4f35-919c-7044366ee437"
      },
      "execution_count": null,
      "outputs": [
        {
          "output_type": "stream",
          "name": "stdout",
          "text": [
            "\n",
            "Confusion Matrix:\n",
            "[[69 11  0  0]\n",
            " [ 7 61  4  0]\n",
            " [ 0  7 49 12]\n",
            " [ 0  0  7 73]]\n",
            "Akurasi Model Klasifikasi: 0.84\n"
          ]
        }
      ]
    },
    {
      "cell_type": "code",
      "source": [
        "# 4. Membangun Model Clustering\n",
        "# a. Gunakan K-Means untuk clustering\n",
        "kmeans = KMeans(n_clusters=4, random_state=42)\n",
        "kmeans.fit(X_scaled)\n",
        "\n",
        "# b. Hitung silhouette score\n",
        "silhouette_avg = silhouette_score(X_scaled, kmeans.labels_)\n",
        "print(f\"\\nSilhouette Score dari Model Clustering: {silhouette_avg:.2f}\")"
      ],
      "metadata": {
        "colab": {
          "base_uri": "https://localhost:8080/"
        },
        "id": "XQXzGqE2TCGv",
        "outputId": "6de7965b-6929-4925-b468-6040a13d521a"
      },
      "execution_count": null,
      "outputs": [
        {
          "output_type": "stream",
          "name": "stdout",
          "text": [
            "\n",
            "Silhouette Score dari Model Clustering: 0.06\n"
          ]
        }
      ]
    }
  ]
}